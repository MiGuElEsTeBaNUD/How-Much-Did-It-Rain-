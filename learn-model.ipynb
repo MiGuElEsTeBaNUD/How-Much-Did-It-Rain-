{
 "cells": [
  {
   "cell_type": "markdown",
   "metadata": {},
   "source": [
    "## Se planean crear 3 tipos de modelos, comparar y luego elegir el mejor"
   ]
  },
  {
   "cell_type": "markdown",
   "metadata": {},
   "source": [
    "## 1. Random Forest"
   ]
  },
  {
   "cell_type": "markdown",
   "metadata": {},
   "source": [
    "### imports"
   ]
  },
  {
   "cell_type": "code",
   "execution_count": 1,
   "metadata": {},
   "outputs": [],
   "source": [
    "from sklearn.ensemble import RandomForestRegressor\n",
    "import pandas as pd"
   ]
  },
  {
   "cell_type": "code",
   "execution_count": 2,
   "metadata": {},
   "outputs": [],
   "source": [
    "# read the data\n",
    "df_mean = pd.read_csv('assets/cleaned_train.csv')"
   ]
  },
  {
   "cell_type": "code",
   "execution_count": 3,
   "metadata": {},
   "outputs": [
    {
     "data": {
      "text/plain": [
       "Id                       0\n",
       "minutes_past             0\n",
       "radardist_km             0\n",
       "Ref                      0\n",
       "Ref_5x5_10th             0\n",
       "Ref_5x5_50th             0\n",
       "Ref_5x5_90th             0\n",
       "RefComposite             0\n",
       "RefComposite_5x5_10th    0\n",
       "RefComposite_5x5_50th    0\n",
       "RefComposite_5x5_90th    0\n",
       "RhoHV                    0\n",
       "RhoHV_5x5_10th           0\n",
       "RhoHV_5x5_50th           0\n",
       "RhoHV_5x5_90th           0\n",
       "Zdr                      0\n",
       "Zdr_5x5_10th             0\n",
       "Zdr_5x5_50th             0\n",
       "Zdr_5x5_90th             0\n",
       "Kdp                      0\n",
       "Kdp_5x5_10th             0\n",
       "Kdp_5x5_50th             0\n",
       "Kdp_5x5_90th             0\n",
       "Expected                 0\n",
       "dtype: int64"
      ]
     },
     "execution_count": 3,
     "metadata": {},
     "output_type": "execute_result"
    }
   ],
   "source": [
    "# Drop duplicates and null values\n",
    "df_mean = df_mean.drop_duplicates()\n",
    "df_mean = df_mean.dropna()\n",
    "df_mean.isnull().sum()"
   ]
  },
  {
   "cell_type": "code",
   "execution_count": 4,
   "metadata": {},
   "outputs": [
    {
     "name": "stdout",
     "output_type": "stream",
     "text": [
      "<class 'pandas.core.frame.DataFrame'>\n",
      "RangeIndex: 1143831 entries, 0 to 1143830\n",
      "Data columns (total 24 columns):\n",
      " #   Column                 Non-Null Count    Dtype  \n",
      "---  ------                 --------------    -----  \n",
      " 0   Id                     1143831 non-null  int64  \n",
      " 1   minutes_past           1143831 non-null  float64\n",
      " 2   radardist_km           1143831 non-null  float64\n",
      " 3   Ref                    1143831 non-null  float64\n",
      " 4   Ref_5x5_10th           1143831 non-null  float64\n",
      " 5   Ref_5x5_50th           1143831 non-null  float64\n",
      " 6   Ref_5x5_90th           1143831 non-null  float64\n",
      " 7   RefComposite           1143831 non-null  float64\n",
      " 8   RefComposite_5x5_10th  1143831 non-null  float64\n",
      " 9   RefComposite_5x5_50th  1143831 non-null  float64\n",
      " 10  RefComposite_5x5_90th  1143831 non-null  float64\n",
      " 11  RhoHV                  1143831 non-null  float64\n",
      " 12  RhoHV_5x5_10th         1143831 non-null  float64\n",
      " 13  RhoHV_5x5_50th         1143831 non-null  float64\n",
      " 14  RhoHV_5x5_90th         1143831 non-null  float64\n",
      " 15  Zdr                    1143831 non-null  float64\n",
      " 16  Zdr_5x5_10th           1143831 non-null  float64\n",
      " 17  Zdr_5x5_50th           1143831 non-null  float64\n",
      " 18  Zdr_5x5_90th           1143831 non-null  float64\n",
      " 19  Kdp                    1143831 non-null  float64\n",
      " 20  Kdp_5x5_10th           1143831 non-null  float64\n",
      " 21  Kdp_5x5_50th           1143831 non-null  float64\n",
      " 22  Kdp_5x5_90th           1143831 non-null  float64\n",
      " 23  Expected               1143831 non-null  float64\n",
      "dtypes: float64(23), int64(1)\n",
      "memory usage: 209.4 MB\n"
     ]
    }
   ],
   "source": [
    "df_mean.info()\n",
    "#df_mean.head()"
   ]
  },
  {
   "cell_type": "code",
   "execution_count": 5,
   "metadata": {},
   "outputs": [],
   "source": [
    "# Set data frames to be the inputs of the skit model\n",
    "X = df_mean.iloc[:, :-1]\n",
    "Y = df_mean.iloc[:, 23:]\n",
    "Y = Y.values.ravel()"
   ]
  },
  {
   "cell_type": "code",
   "execution_count": 6,
   "metadata": {},
   "outputs": [],
   "source": [
    "# Of Documentation example\n",
    "# Fit the model\n",
    "\n",
    "clf = RandomForestRegressor(random_state=42)\n",
    "clf.fit(X, Y)\n",
    "\n"
   ]
  }
 ],
 "metadata": {
  "kernelspec": {
   "display_name": "data-science-introduction",
   "language": "python",
   "name": "python3"
  },
  "language_info": {
   "codemirror_mode": {
    "name": "ipython",
    "version": 3
   },
   "file_extension": ".py",
   "mimetype": "text/x-python",
   "name": "python",
   "nbconvert_exporter": "python",
   "pygments_lexer": "ipython3",
   "version": "3.11.9"
  }
 },
 "nbformat": 4,
 "nbformat_minor": 2
}
