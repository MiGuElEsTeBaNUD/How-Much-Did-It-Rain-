{
 "cells": [
  {
   "cell_type": "markdown",
   "metadata": {},
   "source": [
    "# Exploratory Data Analysis\n",
    "\n",
    "This provides an overall __DATA__ visualizing.\n",
    "\n",
    "Make sure to __INSTALL__ libraries before compiling the code, __it takes several minutes__ to create the html"
   ]
  },
  {
   "cell_type": "code",
   "execution_count": null,
   "metadata": {},
   "outputs": [],
   "source": [
    "#!pip install ydata_profiling\n",
    "#!pip install ipywidgets\n",
    "from ydata_profiling import ProfileReport\n",
    "import ipywidgets as widgets\n",
    "import pandas as pd\n",
    "df = pd.read_csv(\"assets/cleaned_train.csv\")\n",
    "profile_obj = ProfileReport(df, title='How much did it rain')\n",
    "profile_obj.to_file('html-files/How much did it rain.html')\n",
    "profile_obj"
   ]
  }
 ],
 "metadata": {
  "kernelspec": {
   "display_name": "Python 3",
   "language": "python",
   "name": "python3"
  },
  "language_info": {
   "codemirror_mode": {
    "name": "ipython",
    "version": 3
   },
   "file_extension": ".py",
   "mimetype": "text/x-python",
   "name": "python",
   "nbconvert_exporter": "python",
   "pygments_lexer": "ipython3",
   "version": "3.11.9"
  }
 },
 "nbformat": 4,
 "nbformat_minor": 2
}
